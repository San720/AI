{
 "cells": [
  {
   "cell_type": "code",
   "execution_count": 2,
   "metadata": {},
   "outputs": [
    {
     "ename": "KeyboardInterrupt",
     "evalue": "",
     "output_type": "error",
     "traceback": [
      "\u001b[1;31m---------------------------------------------------------------------------\u001b[0m",
      "\u001b[1;31mKeyboardInterrupt\u001b[0m                         Traceback (most recent call last)",
      "\u001b[1;32m~\\AppData\\Local\\Temp/ipykernel_20120/931771970.py\u001b[0m in \u001b[0;36m<module>\u001b[1;34m\u001b[0m\n\u001b[0;32m     13\u001b[0m \u001b[1;33m\u001b[0m\u001b[0m\n\u001b[0;32m     14\u001b[0m \u001b[1;33m\u001b[0m\u001b[0m\n\u001b[1;32m---> 15\u001b[1;33m     \u001b[0mface_coordinates\u001b[0m \u001b[1;33m=\u001b[0m \u001b[0mtrained_face_data\u001b[0m\u001b[1;33m.\u001b[0m\u001b[0mdetectMultiScale\u001b[0m\u001b[1;33m(\u001b[0m\u001b[0mgrayscaled_img\u001b[0m\u001b[1;33m)\u001b[0m\u001b[1;33m\u001b[0m\u001b[1;33m\u001b[0m\u001b[0m\n\u001b[0m\u001b[0;32m     16\u001b[0m \u001b[1;33m\u001b[0m\u001b[0m\n\u001b[0;32m     17\u001b[0m     \u001b[1;32mfor\u001b[0m \u001b[1;33m(\u001b[0m\u001b[0mx\u001b[0m\u001b[1;33m,\u001b[0m \u001b[0my\u001b[0m\u001b[1;33m,\u001b[0m \u001b[0mw\u001b[0m\u001b[1;33m,\u001b[0m \u001b[0mh\u001b[0m\u001b[1;33m)\u001b[0m \u001b[1;32min\u001b[0m \u001b[0mface_coordinates\u001b[0m\u001b[1;33m:\u001b[0m\u001b[1;33m\u001b[0m\u001b[1;33m\u001b[0m\u001b[0m\n",
      "\u001b[1;31mKeyboardInterrupt\u001b[0m: "
     ]
    }
   ],
   "source": [
    "\n",
    "import cv2\n",
    "\n",
    "trained_face_data = cv2.CascadeClassifier('haarcascade_frontalface_default.xml')\n",
    "\n",
    "#img = cv2.imread('download.jfif')\n",
    "webcam= cv2.VideoCapture(0)\n",
    "\n",
    "while True:\n",
    "    sucessful_frame_read, frame = webcam.read()\n",
    "\n",
    "\n",
    "    grayscaled_img = cv2.cvtColor(frame , cv2.COLOR_BGR2GRAY)\n",
    "\n",
    "\n",
    "    face_coordinates = trained_face_data.detectMultiScale(grayscaled_img)\n",
    "\n",
    "    for (x, y, w, h) in face_coordinates:\n",
    "        cv2.rectangle(frame, (x, y), (x+w, y+h), (0, 255, 0), 2)\n",
    "\n",
    "    cv2.imshow('Face detector', frame)\n",
    "\n",
    "    key = cv2.waitKey(1)\n",
    "\n",
    "    if key==81 or key==113:\n",
    "        break\n",
    "webcam.release()\n",
    "\n",
    "\"\"\"\n",
    "face_coordinates = trained_face_data.detectMultiScale(grayscaled_img)\n",
    "\n",
    "for (x, y, w, h) in face_coordinates:\n",
    "    cv2.rectangle(webcam, (x, y), (x+w, y+h), (0, 255, 0), 2)\n",
    "\n",
    "\n",
    "#print(face_coordinates)\n",
    "\n",
    "cv2.imshow('Face detector', webcam)\n",
    "\n",
    "cv2.waitKey()\n",
    "\"\"\"\n",
    "\n",
    "print('code')"
   ]
  }
 ],
 "metadata": {
  "interpreter": {
   "hash": "63fd5069d213b44bf678585dea6b12cceca9941eaf7f819626cde1f2670de90d"
  },
  "kernelspec": {
   "display_name": "Python 3.9.5 64-bit",
   "language": "python",
   "name": "python3"
  },
  "language_info": {
   "codemirror_mode": {
    "name": "ipython",
    "version": 3
   },
   "file_extension": ".py",
   "mimetype": "text/x-python",
   "name": "python",
   "nbconvert_exporter": "python",
   "pygments_lexer": "ipython3",
   "version": "3.9.5"
  },
  "orig_nbformat": 4
 },
 "nbformat": 4,
 "nbformat_minor": 2
}
